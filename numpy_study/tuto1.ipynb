{
 "cells": [
  {
   "cell_type": "code",
   "execution_count": 1,
   "metadata": {},
   "outputs": [],
   "source": [
    "import numpy as np"
   ]
  },
  {
   "cell_type": "markdown",
   "metadata": {},
   "source": [
    "NumPy는 Python에서 사용되는 수학적 연산과 array data 처리를 위한 라이브러리이다.\n",
    "NumPy는 Numerical Python의 줄임말고, 다차원 배열 처리에 최적화된 라이브러리이다.\n",
    "\n",
    "NumPy의 핵심 객체는 ndarray(n-dimentional array)이다.\n",
    "이 객체는 다차원 배열을 나타내며, 동일한 data type을 가진 원소들을 저장한다. 또한 인덱싱, 슬라이싱, 브로드캐스팅, 연산 등의 다양한 기능을 제공한다."
   ]
  },
  {
   "cell_type": "markdown",
   "metadata": {},
   "source": [
    "NumPy ndarray와 Python list의 차이점\n",
    "\n",
    "1. Python list는 Dynamic typing을 지원하지만 ndrray는 지원하지 않는다. 즉, 하나의 data type만 넣을 수 있다.\n",
    "2. Numpy ndarray는 연속된 메모리 블록에 데이터를 저장하여 효율적인 메모리 사용과 빠른 데이터 처리가 가능하지만, Python list는 다양한 data type을 저장할 수 있지만, 이로 인해   메모리 사용이 비효율적이고, 처리 속도가 느려질 수 있다.\n",
    "3. Numpy ndarray는 n-dimentional array를 생성하고 조작할 수 있지만 Python list는 주로 1차원 list로 사용되며, n-dimentional data를 처리하기 위해서는 list의 list를 사용해야 한다.\n",
    "4. Numpy ndarray는 broadcasting이라는 강력한 기능을 제공하는데 이는 서로 다른 크기의 배열 간에도 산술 연산이 가능해진다."
   ]
  },
  {
   "cell_type": "code",
   "execution_count": 14,
   "metadata": {},
   "outputs": [
    {
     "name": "stdout",
     "output_type": "stream",
     "text": [
      "[0. 0. 0. 0. 0.]\n",
      "[[0. 0. 0.]\n",
      " [0. 0. 0.]\n",
      " [0. 0. 0.]\n",
      " [0. 0. 0.]\n",
      " [0. 0. 0.]]\n",
      "[[0. 0. 0. 0.]\n",
      " [0. 0. 0. 0.]\n",
      " [0. 0. 0. 0.]]\n"
     ]
    }
   ],
   "source": [
    "# zero 함수는 0으로 채워진 배열 생성\n",
    "print(np.zeros(5))\n",
    "# matrix 5x3 크기의 0으로 채워진 배열 생성\n",
    "print(np.zeros((5, 3)))\n",
    "# matrix 3x4 크기의 0으로 채워진 배열 생성\n",
    "print(np.zeros((3,4)))"
   ]
  },
  {
   "cell_type": "code",
   "execution_count": null,
   "metadata": {},
   "outputs": [],
   "source": []
  }
 ],
 "metadata": {
  "kernelspec": {
   "display_name": "Python 3 (ipykernel)",
   "language": "python",
   "name": "python3"
  },
  "language_info": {
   "codemirror_mode": {
    "name": "ipython",
    "version": 3
   },
   "file_extension": ".py",
   "mimetype": "text/x-python",
   "name": "python",
   "nbconvert_exporter": "python",
   "pygments_lexer": "ipython3",
   "version": "3.10.6"
  }
 },
 "nbformat": 4,
 "nbformat_minor": 2
}
