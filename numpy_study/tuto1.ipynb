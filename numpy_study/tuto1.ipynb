{
 "cells": [
  {
   "cell_type": "code",
   "execution_count": 1,
   "metadata": {},
   "outputs": [],
   "source": [
    "import numpy as np"
   ]
  },
  {
   "cell_type": "markdown",
   "metadata": {},
   "source": [
    "* NumPy는 Python에서 사용되는 수학적 연산과 array data 처리를 위한 라이브러리이다.\n",
    "* NumPy는 Numerical Python의 줄임말고, 다차원 배열 처리에 최적화된 라이브러리이다.\n",
    "\n",
    "* NumPy의 핵심 객체는 ndarray(n-dimentional array)이다.\n",
    "* 이 객체는 다차원 배열을 나타내며, 동일한 data type을 가진 원소들을 저장한다. 또한 인덱싱, 슬라이싱, 브로드캐스팅, 연산 등의 다양한 기능을 제공한다."
   ]
  },
  {
   "cell_type": "markdown",
   "metadata": {},
   "source": [
    "* NumPy ndarray와 Python list의 차이점\n",
    "\n",
    "1. Python list는 Dynamic typing을 지원하지만 ndrray는 지원하지 않는다. 즉, 하나의 data type만 넣을 수 있다.\n",
    "2. Numpy ndarray는 연속된 메모리 블록에 데이터를 저장하여 효율적인 메모리 사용과 빠른 데이터 처리가 가능하지만, Python list는 다양한 data type을 저장할 수 있지만, 이로 인해   메모리 사용이 비효율적이고, 처리 속도가 느려질 수 있다.\n",
    "3. Numpy ndarray는 n-dimentional array를 생성하고 조작할 수 있지만 Python list는 주로 1차원 list로 사용되며, n-dimentional data를 처리하기 위해서는 list의 list를 사용해야 한다.\n",
    "4. Numpy ndarray는 broadcasting이라는 강력한 기능을 제공하는데 이는 서로 다른 크기의 배열 간에도 산술 연산이 가능해진다."
   ]
  },
  {
   "cell_type": "code",
   "execution_count": 14,
   "metadata": {},
   "outputs": [
    {
     "name": "stdout",
     "output_type": "stream",
     "text": [
      "[0. 0. 0. 0. 0.]\n",
      "[[0. 0. 0.]\n",
      " [0. 0. 0.]\n",
      " [0. 0. 0.]\n",
      " [0. 0. 0.]\n",
      " [0. 0. 0.]]\n",
      "[[0. 0. 0. 0.]\n",
      " [0. 0. 0. 0.]\n",
      " [0. 0. 0. 0.]]\n"
     ]
    }
   ],
   "source": [
    "# zero 함수는 0으로 채워진 배열 생성\n",
    "print(np.zeros(5))\n",
    "# matrix 5x3 크기의 0으로 채워진 배열 생성\n",
    "print(np.zeros((5, 3)))\n",
    "# matrix 3x4 크기의 0으로 채워진 배열 생성\n",
    "print(np.zeros((3,4)))"
   ]
  },
  {
   "cell_type": "markdown",
   "metadata": {},
   "source": [
    "* 용어\n",
    "\n",
    "* NumPy에서 각 차원을 축(axis)라고 한다.\n",
    "* 축의 개수를 랭크(rank)라고 한다. \n",
    "* 예를 들어, 위의 3x4 matrix는 rank 2인 array이다. \n",
    "* 첫 번째 axis의 length는 3이고 두 번째 axis의 length는 4입니다.\n",
    "* 배열의 axis의 길이를 배열의 shape라고 한다.\n",
    "* 예를 들어, 위 행렬의 shape은 (3, 4)이다.\n",
    "* rank는 shape의 길이와 같다.\n",
    "* 배열의 size는 전체 원소의 개수이다. axis의 길이를 모두 곱해서 구할 수 있다. \n",
    "* (sie : 3 x 4 = 12)"
   ]
  },
  {
   "cell_type": "code",
   "execution_count": 17,
   "metadata": {},
   "outputs": [
    {
     "data": {
      "text/plain": [
       "array([[0., 0., 0., 0.],\n",
       "       [0., 0., 0., 0.],\n",
       "       [0., 0., 0., 0.]])"
      ]
     },
     "execution_count": 17,
     "metadata": {},
     "output_type": "execute_result"
    }
   ],
   "source": [
    "a = np.zeros((3, 4))\n",
    "a"
   ]
  },
  {
   "cell_type": "code",
   "execution_count": 23,
   "metadata": {},
   "outputs": [
    {
     "name": "stdout",
     "output_type": "stream",
     "text": [
      "(3, 4)\n",
      "2\n",
      "2\n",
      "12\n"
     ]
    }
   ],
   "source": [
    "print(a.shape)\n",
    "print(a.ndim) # len(a.shape)\n",
    "print(len(a.shape))\n",
    "print(a.size) # 3 x 4\n"
   ]
  },
  {
   "cell_type": "markdown",
   "metadata": {},
   "source": [
    "* N-dimentional Array\n",
    "\n",
    "임의의 rank 수를 가진 N-dimentional Array를 만들 수 있다. 예를 들어, 다음은 크기가 (2,3,4)인 3D Array(rank=3)이다."
   ]
  },
  {
   "cell_type": "code",
   "execution_count": 24,
   "metadata": {},
   "outputs": [
    {
     "data": {
      "text/plain": [
       "array([[[0., 0., 0., 0.],\n",
       "        [0., 0., 0., 0.],\n",
       "        [0., 0., 0., 0.]],\n",
       "\n",
       "       [[0., 0., 0., 0.],\n",
       "        [0., 0., 0., 0.],\n",
       "        [0., 0., 0., 0.]]])"
      ]
     },
     "execution_count": 24,
     "metadata": {},
     "output_type": "execute_result"
    }
   ],
   "source": [
    "np.zeros((2,3,4))"
   ]
  },
  {
   "cell_type": "code",
   "execution_count": 26,
   "metadata": {},
   "outputs": [
    {
     "data": {
      "text/plain": [
       "numpy.ndarray"
      ]
     },
     "execution_count": 26,
     "metadata": {},
     "output_type": "execute_result"
    }
   ],
   "source": [
    "# Array Type\n",
    "type(np.zeros((2,3,4)))"
   ]
  },
  {
   "cell_type": "code",
   "execution_count": 27,
   "metadata": {},
   "outputs": [
    {
     "data": {
      "text/plain": [
       "array([[1., 1., 1., 1.],\n",
       "       [1., 1., 1., 1.],\n",
       "       [1., 1., 1., 1.]])"
      ]
     },
     "execution_count": 27,
     "metadata": {},
     "output_type": "execute_result"
    }
   ],
   "source": [
    "# np.ones 함수는 1로 채워진 matrix를 만든다.\n",
    "np.ones((3,4))"
   ]
  },
  {
   "cell_type": "code",
   "execution_count": 30,
   "metadata": {},
   "outputs": [
    {
     "data": {
      "text/plain": [
       "array([[3.14159265, 3.14159265, 3.14159265, 3.14159265],\n",
       "       [3.14159265, 3.14159265, 3.14159265, 3.14159265],\n",
       "       [3.14159265, 3.14159265, 3.14159265, 3.14159265]])"
      ]
     },
     "execution_count": 30,
     "metadata": {},
     "output_type": "execute_result"
    }
   ],
   "source": [
    "# np.full 함수는 주어진 값으로 지정된 크기의 배열을 초기화한다.\n",
    "np.full((3,4), np.pi)"
   ]
  },
  {
   "cell_type": "code",
   "execution_count": 33,
   "metadata": {},
   "outputs": [
    {
     "data": {
      "text/plain": [
       "array([[3.14, 3.14, 3.14],\n",
       "       [3.14, 3.14, 3.14]])"
      ]
     },
     "execution_count": 33,
     "metadata": {},
     "output_type": "execute_result"
    }
   ],
   "source": [
    "# np.empty 함수는 초기화되지 않은 크기의 배열을 만든다. 배열의 내용은 예측이 불가능하며 메모리 상황에 따라 달라진다.\n",
    "np.empty((2,3))"
   ]
  },
  {
   "cell_type": "code",
   "execution_count": 34,
   "metadata": {},
   "outputs": [
    {
     "data": {
      "text/plain": [
       "array([[ 1,  2,  3,  4],\n",
       "       [10, 20, 30, 40]])"
      ]
     },
     "execution_count": 34,
     "metadata": {},
     "output_type": "execute_result"
    }
   ],
   "source": [
    "# np.array 함수는 Python 리스트를 사용해서 ndarray를 초기화한다.\n",
    "np.array([[1,2,3,4], [10,20,30,40]])"
   ]
  },
  {
   "cell_type": "code",
   "execution_count": 42,
   "metadata": {},
   "outputs": [
    {
     "data": {
      "text/plain": [
       "array([1, 2, 3, 4])"
      ]
     },
     "execution_count": 42,
     "metadata": {},
     "output_type": "execute_result"
    }
   ],
   "source": [
    "# np.arange 함수는 기본 range 함수와 비슷한 numpy range 함수를 사용하여 ndarray를 만들 수 있다.\n",
    "np.arange(1, 5)"
   ]
  },
  {
   "cell_type": "code",
   "execution_count": 41,
   "metadata": {},
   "outputs": [
    {
     "data": {
      "text/plain": [
       "array([2.3, 3.3])"
      ]
     },
     "execution_count": 41,
     "metadata": {},
     "output_type": "execute_result"
    }
   ],
   "source": [
    "# float type도 가능하다.\n",
    "np.arange(2.3, 4.3)"
   ]
  },
  {
   "cell_type": "code",
   "execution_count": 46,
   "metadata": {},
   "outputs": [
    {
     "name": "stdout",
     "output_type": "stream",
     "text": [
      "[0.         0.33333333 0.66666667 1.         1.33333333 1.66666667]\n",
      "[0.      0.33333 0.66666 0.99999 1.33332 1.66665]\n",
      "[0.      0.33334 0.66668 1.00002 1.33336]\n"
     ]
    }
   ],
   "source": [
    "# Python의 기본 range 함수처럼 건너 뛰는 정도를 정할 수 있다.\n",
    "np.arange(1, 10, 0.7)\n",
    "# 하지만 float를 사용하면 원소의 개수가 일정하지 않을 수 있따.\n",
    "print(np.arange(0, 5/3, 1/3))\n",
    "print(np.arange(0, 5/3, 0.33333))\n",
    "print(np.arange(0, 5/3, 0.33334))"
   ]
  },
  {
   "cell_type": "code",
   "execution_count": 51,
   "metadata": {},
   "outputs": [
    {
     "data": {
      "text/plain": [
       "array([ 0.  ,  3.02,  6.04,  9.06, 12.08, 15.1 ])"
      ]
     },
     "execution_count": 51,
     "metadata": {},
     "output_type": "execute_result"
    }
   ],
   "source": [
    "# 위와 같은 이유로 float point를 사용할 땐 arange 대신에 linspace 함수를 사용하는 것이 좋다\n",
    "# np.linspace 함수는 지정된 개수만큼 두 값 사이를 나눈 배열을 반환한다.\n",
    "# arange와는 다르게 최댓값이 포함된다.\n",
    "np.linspace(0, 15.1, 6)"
   ]
  }
 ],
 "metadata": {
  "kernelspec": {
   "display_name": "Python 3 (ipykernel)",
   "language": "python",
   "name": "python3"
  },
  "language_info": {
   "codemirror_mode": {
    "name": "ipython",
    "version": 3
   },
   "file_extension": ".py",
   "mimetype": "text/x-python",
   "name": "python",
   "nbconvert_exporter": "python",
   "pygments_lexer": "ipython3",
   "version": "3.10.6"
  }
 },
 "nbformat": 4,
 "nbformat_minor": 2
}
