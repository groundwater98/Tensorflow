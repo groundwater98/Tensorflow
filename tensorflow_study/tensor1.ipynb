{
 "cells": [
  {
   "cell_type": "code",
   "execution_count": 12,
   "metadata": {},
   "outputs": [],
   "source": [
    "import tensorflow as tf\n",
    "import numpy as np"
   ]
  },
  {
   "cell_type": "markdown",
   "metadata": {},
   "source": [
    "* Tensorflow 란\n",
    "\n",
    "Tensorflow는 머신 러닝 및 인공 지능을 위한 오픈 소스 소프트웨어 라이브러리이다.\n",
    "데이터 플로우 그래프(Data Flow Graph) 방식을 사용한다.\n",
    "\n",
    "* 데이터 플로우 그래프(Data Flow Graph)란\n",
    "데이터 플로우 그래프는 수학 계산과 데이터의 흐름을 Node와 Edge를 사용한 Directed Graph로 표현한다.\n",
    "Node는 수학적 계산, 입/출력(I/O), 그리고 데이터의 읽기/저장 등의 작업을 수행한다.\n",
    "Edge는 Node들 간 데이터의 입출력 관계를 나타낸다.\n",
    "Edge는 Tensor(다차원 데이터 배열)을 실어 나르는데, 이것이 곧 Tensorflow이다.\n",
    "\n",
    "* Tensor란?\n",
    "인공지능에서의 Tensor은 수학적 개념의 다차원 배열(N-Dimentional array)이다.\n",
    "Tensor을 이해하기 위해 Rank, Shape, Type을 알아야 한다.\n",
    "\n",
    "* Rank\n",
    "Tensor의 차원을 의미한다.\n",
    "Rank    Type\n",
    "0       Scalar\n",
    "1       Vector\n",
    "2       Matrix\n",
    "3       3 Tensor\n",
    "4       4 Tensor\n",
    "\n",
    "* Shape\n",
    "각 축(axis)이 몇개의 Element로 구성되어있는지 나타내는 값이다.\n",
    "차원과 함께 몇개의 원소들로 이루어져 있는지의 여부를 파악 가능하다.\n",
    "\n",
    "* Type\n",
    "Data Type       Python Type     Description\n",
    "DT_FLOAT        tf.float32      32 bits floating point\n",
    "DT_DOUBLE       tf.float64      64 bits floating point\n",
    "DT_INT8         tf.int8         8 bits signed integer\n",
    "DT_INT16        tf.int16        16 bits signed integer\n",
    "DT_INT32        tf.int32        32 bits signed integer\n",
    "DT_INT64        tf.int64        64 bits signed integer"
   ]
  },
  {
   "cell_type": "code",
   "execution_count": 17,
   "metadata": {},
   "outputs": [
    {
     "name": "stdout",
     "output_type": "stream",
     "text": [
      "tf.Tensor([1 2 3], shape=(3,), dtype=int64)\n"
     ]
    }
   ],
   "source": [
    "# Tensor의 생성\n",
    "# Python의 NumPy를 통해 생성한 array/tuple/list는 Tensorflow의 tf.constant()함수를 통해 Tensor로 변환할 수 있다.\n",
    "arr = np.array((1,2,3))\n",
    "print(tf.constant(arr))\n"
   ]
  },
  {
   "cell_type": "code",
   "execution_count": 21,
   "metadata": {},
   "outputs": [
    {
     "name": "stdout",
     "output_type": "stream",
     "text": [
      "tf.Tensor(\n",
      "[[1. 1. 1. 1.]\n",
      " [1. 1. 1. 1.]\n",
      " [1. 1. 1. 1.]], shape=(3, 4), dtype=float64)\n"
     ]
    }
   ],
   "source": [
    "arr = np.ones((3,4))\n",
    "print(tf.constant(arr))"
   ]
  },
  {
   "cell_type": "code",
   "execution_count": 41,
   "metadata": {},
   "outputs": [
    {
     "data": {
      "text/plain": [
       "<tf.Tensor: shape=(3,), dtype=float32, numpy=array([1., 2., 3.], dtype=float32)>"
      ]
     },
     "execution_count": 41,
     "metadata": {},
     "output_type": "execute_result"
    }
   ],
   "source": [
    "# tensor 생성시에 data type을 정의할 수 있다.\n",
    "tensor = tf.constant([1,2,3], dtype=tf.float32)\n",
    "tensor"
   ]
  },
  {
   "cell_type": "code",
   "execution_count": 43,
   "metadata": {},
   "outputs": [
    {
     "data": {
      "text/plain": [
       "<tf.Tensor: shape=(4, 5, 2), dtype=float64, numpy=\n",
       "array([[[3.11215498, 3.11215498],\n",
       "        [3.11215498, 3.11215498],\n",
       "        [3.11215498, 3.11215498],\n",
       "        [3.11215498, 3.11215498],\n",
       "        [3.11215498, 3.11215498]],\n",
       "\n",
       "       [[3.11215498, 3.11215498],\n",
       "        [3.11215498, 3.11215498],\n",
       "        [3.11215498, 3.11215498],\n",
       "        [3.11215498, 3.11215498],\n",
       "        [3.11215498, 3.11215498]],\n",
       "\n",
       "       [[3.11215498, 3.11215498],\n",
       "        [3.11215498, 3.11215498],\n",
       "        [3.11215498, 3.11215498],\n",
       "        [3.11215498, 3.11215498],\n",
       "        [3.11215498, 3.11215498]],\n",
       "\n",
       "       [[3.11215498, 3.11215498],\n",
       "        [3.11215498, 3.11215498],\n",
       "        [3.11215498, 3.11215498],\n",
       "        [3.11215498, 3.11215498],\n",
       "        [3.11215498, 3.11215498]]])>"
      ]
     },
     "execution_count": 43,
     "metadata": {},
     "output_type": "execute_result"
    }
   ],
   "source": [
    "arr = np.full((4,5,2), 3.11215498)\n",
    "tensor = tf.constant(arr)\n",
    "tensor"
   ]
  },
  {
   "cell_type": "code",
   "execution_count": 44,
   "metadata": {},
   "outputs": [
    {
     "data": {
      "text/plain": [
       "TensorShape([4, 5, 2])"
      ]
     },
     "execution_count": 44,
     "metadata": {},
     "output_type": "execute_result"
    }
   ],
   "source": [
    "# tensor.shape 함수는 Tensor의 shape을 확인한다.\n",
    "tensor.shape"
   ]
  },
  {
   "cell_type": "code",
   "execution_count": 45,
   "metadata": {},
   "outputs": [
    {
     "data": {
      "text/plain": [
       "<tf.Tensor: shape=(3,), dtype=int32, numpy=array([4, 5, 2], dtype=int32)>"
      ]
     },
     "execution_count": 45,
     "metadata": {},
     "output_type": "execute_result"
    }
   ],
   "source": [
    "# tf.shape 함수는 Tensor의 shape을 확인한다. 이 함수는 주어진 tensor의 구조, 즉 각 차원의 요소 수를 이해하는데 유용하다\n",
    "tf.shape(tensor)\n",
    "\n",
    "# tensor 자체는 1차원이고 (3,), 그 길이는 3이다. 이 3개의 요소는 원래 tensor의 각 차원의 크기이다.\n",
    "# dtype=int32는 이 tensor가 int형 data를 갖고 있음을 나타낸다. 여기서 데이터는 tensor의 각 차원의 크기이다. 여기서는 4,5,2"
   ]
  },
  {
   "cell_type": "markdown",
   "metadata": {},
   "source": [
    "* tensor.shape와 tf.shape의 차이점\n",
    "\n",
    "1. tensor.shape\n",
    "- tensor.shape은 tensor의 '정적 형태'를 반환한다. 이는 tensor가 생성될 때 결정되며, 코드가 실행되지 전에 알 수 있는 형태이다.\n",
    "- 정적 형태는 tensor의 구조가 고정되어 있고 변경되지 않는 경우에 사용된다. 이 형태는 Python의 tuple형태로 반환된다.\n",
    "\n",
    "2. tf.shape(tensor)\n",
    "- tf.shape(tensor)은 tensor의 '동적 형태'를 반환한다. 이는 run time에 결정되며, tensor의 형태가 실행 중에 변경될 수 있는 경우에 유용하다.\n",
    "- 동적 형태는 run time에 계산되며, tensor 자체로 반환된다. 이는 tensor의 차원이 프로그램을 실행 도중에 변경될 수 있을 때 필요하다."
   ]
  },
  {
   "cell_type": "code",
   "execution_count": 46,
   "metadata": {},
   "outputs": [
    {
     "data": {
      "text/plain": [
       "tf.float64"
      ]
     },
     "execution_count": 46,
     "metadata": {},
     "output_type": "execute_result"
    }
   ],
   "source": [
    "# tensor.dtype 함수는 tensor의 data type을 확인한다.\n",
    "tensor.dtype"
   ]
  },
  {
   "cell_type": "code",
   "execution_count": 47,
   "metadata": {},
   "outputs": [
    {
     "data": {
      "text/plain": [
       "<tf.Tensor: shape=(4, 5, 2), dtype=uint8, numpy=\n",
       "array([[[3, 3],\n",
       "        [3, 3],\n",
       "        [3, 3],\n",
       "        [3, 3],\n",
       "        [3, 3]],\n",
       "\n",
       "       [[3, 3],\n",
       "        [3, 3],\n",
       "        [3, 3],\n",
       "        [3, 3],\n",
       "        [3, 3]],\n",
       "\n",
       "       [[3, 3],\n",
       "        [3, 3],\n",
       "        [3, 3],\n",
       "        [3, 3],\n",
       "        [3, 3]],\n",
       "\n",
       "       [[3, 3],\n",
       "        [3, 3],\n",
       "        [3, 3],\n",
       "        [3, 3],\n",
       "        [3, 3]]], dtype=uint8)>"
      ]
     },
     "execution_count": 47,
     "metadata": {},
     "output_type": "execute_result"
    }
   ],
   "source": [
    "# tf.cast 함수는 data type, 즉, dtype을 변환해줄 수 있다.\n",
    "tf.cast(tensor, dtype=tf.uint8)"
   ]
  }
 ],
 "metadata": {
  "kernelspec": {
   "display_name": "Python 3 (ipykernel)",
   "language": "python",
   "name": "python3"
  },
  "language_info": {
   "codemirror_mode": {
    "name": "ipython",
    "version": 3
   },
   "file_extension": ".py",
   "mimetype": "text/x-python",
   "name": "python",
   "nbconvert_exporter": "python",
   "pygments_lexer": "ipython3",
   "version": "3.10.6"
  }
 },
 "nbformat": 4,
 "nbformat_minor": 2
}
